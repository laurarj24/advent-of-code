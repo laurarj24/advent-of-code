{
 "cells": [
  {
   "cell_type": "markdown",
   "metadata": {},
   "source": [
    "The engineers are trying to figure out which reports are safe. The Red-Nosed reactor safety systems can only tolerate levels that are either gradually increasing or gradually decreasing. So, a report only counts as safe if both of the following are true:\n",
    "\n",
    "The levels are either all increasing or all decreasing.\n",
    "Any two adjacent levels differ by at least one and at most three.\n",
    "Analyze the unusual data from the engineers. How many reports are safe?"
   ]
  }
 ],
 "metadata": {
  "language_info": {
   "name": "python"
  }
 },
 "nbformat": 4,
 "nbformat_minor": 2
}
